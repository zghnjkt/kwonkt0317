{
  "cells": [
    {
      "cell_type": "markdown",
      "metadata": {
        "id": "view-in-github",
        "colab_type": "text"
      },
      "source": [
        "<a href=\"https://colab.research.google.com/github/zghnjkt/kwonkt0317/blob/main/%EB%85%BC%ED%94%84_CNN%EA%B3%BC%EC%A0%9C.ipynb\" target=\"_parent\"><img src=\"https://colab.research.google.com/assets/colab-badge.svg\" alt=\"Open In Colab\"/></a>"
      ]
    },
    {
      "cell_type": "markdown",
      "metadata": {
        "id": "HGHpxLu_sEwt"
      },
      "source": [
        "# 전처리"
      ]
    },
    {
      "cell_type": "code",
      "execution_count": null,
      "metadata": {
        "colab": {
          "base_uri": "https://localhost:8080/"
        },
        "id": "16bYeTsWsG6u",
        "outputId": "274461eb-b1ab-4b81-ebdf-fdeed20887e6"
      },
      "outputs": [
        {
          "output_type": "stream",
          "name": "stdout",
          "text": [
            "학습셋 이미지 수 : 60000 개\n",
            "테스트셋 이미지 수 : 10000 개\n"
          ]
        }
      ],
      "source": [
        "from tensorflow.keras.datasets import fashion_mnist\n",
        "from tensorflow.keras.utils import to_categorical\n",
        "import sys\n",
        "import matplotlib.pyplot as plt\n",
        "import numpy as np\n",
        "import tensorflow as tf\n",
        "\n",
        "fashion_mnist = tf.keras.datasets.fashion_mnist\n",
        "\n",
        "# MNIST 데이터셋을 불러와 학습셋과 테스트셋으로 저장합니다.\n",
        "(X_train, y_train), (X_test, y_test) = fashion_mnist.load_data()\n",
        "\n",
        "# 학습셋과 테스트셋이 각각 몇 개의 이미지로 되어 있는지 확인합니다.\n",
        "print(\"학습셋 이미지 수 : %d 개\" % (X_train.shape[0]))\n",
        "print(\"테스트셋 이미지 수 : %d 개\" % (X_test.shape[0]))"
      ]
    },
    {
      "cell_type": "code",
      "execution_count": null,
      "metadata": {
        "colab": {
          "base_uri": "https://localhost:8080/"
        },
        "id": "wCVQ15NF9QeU",
        "outputId": "c0080373-7aeb-456f-a0c0-f157bf2a556b"
      },
      "outputs": [
        {
          "output_type": "display_data",
          "data": {
            "text/plain": [
              "<Figure size 640x480 with 1 Axes>"
            ],
            "image/png": "[encoded data removed]"
          },
          "metadata": {}
        }
      ],
      "source": [
        "plt.imshow(X_train[0], cmap='Greys')\n",
        "plt.show()"
      ]
    },
    {
      "cell_type": "code",
      "execution_count": null,
      "metadata": {
        "colab": {
          "base_uri": "https://localhost:8080/"
        },
        "id": "peOSfxMNsYlI",
        "outputId": "6531bebd-645f-43cc-d676-3cb2e6e67205"
      },
      "outputs": [
        {
          "output_type": "stream",
          "name": "stdout",
          "text": [
            "0  0  0  0  0  0  0  0  0  0  0  0  0  0  0  0  0  0  0  0  0  0  0  0  0  0  0  0  \n",
            "0  0  0  0  0  0  0  0  0  0  0  0  0  0  0  0  0  0  0  0  0  0  0  0  0  0  0  0  \n",
            "0  0  0  0  0  0  0  0  0  0  0  0  0  0  0  0  0  0  0  0  0  0  0  0  0  0  0  0  \n",
            "0  0  0  0  0  0  0  0  0  0  0  0  1  0  0  13 73 0  0  1  4  0  0  0  0  1  1  0  \n",
            "0  0  0  0  0  0  0  0  0  0  0  0  3  0  36 13612762 54 0  0  0  1  3  4  0  0  3  \n",
            "0  0  0  0  0  0  0  0  0  0  0  0  6  0  10220417613414412323 0  0  0  0  12 10 0  \n",
            "0  0  0  0  0  0  0  0  0  0  0  0  0  0  15523620717810715616110964 23 77 13072 15 \n",
            "0  0  0  0  0  0  0  0  0  0  0  1  0  69 20722321821621616312712112214614188 17266 \n",
            "0  0  0  0  0  0  0  0  0  1  1  1  0  2002322322332292232232152131641271231962290  \n",
            "0  0  0  0  0  0  0  0  0  0  0  0  0  1832252162232282352272242222242212232451730  \n",
            "0  0  0  0  0  0  0  0  0  0  0  0  0  1932282182131981802122102112132232202432020  \n",
            "0  0  0  0  0  0  0  0  0  1  3  0  12 21922021221819216922720821822421222619720952 \n",
            "0  0  0  0  0  0  0  0  0  0  6  0  99 24422222021820319822121521322222024511916756 \n",
            "0  0  0  0  0  0  0  0  0  4  0  0  55 23622823022824023221321822323421721720992 0  \n",
            "0  0  1  4  6  7  2  0  0  0  0  0  23722621722322221922222121622322921521825577 0  \n",
            "0  3  0  0  0  0  0  0  0  62 1452042282072132212182082112182242232192152242441590  \n",
            "0  0  0  0  18 44 82 1071892282202222172262002052112302242341761882502482332382150  \n",
            "0  57 1872082242212242082042142082092001592451932062232552552212342212112202322460  \n",
            "3  20222822422121121121420520520522024080 1502552292211881541912102042092222282250  \n",
            "98 23319821022222922923424922019421521724165 73 10611716821922121521722322322422929 \n",
            "75 20421220419320521122521618519720619821324019522724523922321821220922222022123067 \n",
            "48 203183194213197185190194192202214219221220236225216199206186181177172181205206115\n",
            "0  12221919317917118319620421021320721121020019619419119519119819217615616717721092 \n",
            "0  0  74 1892121911751721751811851881891881931982042092102102111881881941922161700  \n",
            "2  0  0  0  66 20022223723924224624324422122019319117918218218117616616899 58 0  0  \n",
            "0  0  0  0  0  0  0  40 61 44 72 41 35 0  0  0  0  0  0  0  0  0  0  0  0  0  0  0  \n",
            "0  0  0  0  0  0  0  0  0  0  0  0  0  0  0  0  0  0  0  0  0  0  0  0  0  0  0  0  \n",
            "0  0  0  0  0  0  0  0  0  0  0  0  0  0  0  0  0  0  0  0  0  0  0  0  0  0  0  0  \n"
          ]
        }
      ],
      "source": [
        "for x in X_train[0]:\n",
        "    for i in x:\n",
        "        sys.stdout.write(\"%-3s\" % i)\n",
        "    sys.stdout.write('\\n')"
      ]
    },
    {
      "cell_type": "code",
      "execution_count": null,
      "metadata": {
        "colab": {
          "base_uri": "https://localhost:8080/"
        },
        "id": "pCRc1mGYseap",
        "outputId": "c0cbe9c2-0232-4cd2-d9c1-52eff5e65127"
      },
      "outputs": [
        {
          "output_type": "stream",
          "name": "stdout",
          "text": [
            "class : 9 \n",
            "[0. 0. 0. 0. 0. 0. 0. 0. 0. 1.]\n"
          ]
        }
      ],
      "source": [
        "# 차원 변환 과정을 실습해 봅니다.\n",
        "X_train = X_train.reshape(X_train.shape[0], 784)\n",
        "X_train = X_train.astype('float64')\n",
        "X_train = X_train / 255\n",
        "\n",
        "X_test = X_test.reshape(X_test.shape[0], 784).astype('float64') / 255\n",
        "# 클래스 값을 확인해 봅니다.\n",
        "print(\"class : %d \" % (y_train[0]))\n",
        "\n",
        "# 바이너리화 과정을 실습해 봅니다.\n",
        "y_train = to_categorical(y_train, 10)\n",
        "y_test = to_categorical(y_test, 10)\n",
        "\n",
        "print(y_train[0])"
      ]
    },
    {
      "cell_type": "markdown",
      "metadata": {
        "id": "0hKx_Jvh1ip3"
      },
      "source": [
        "# 컨볼루션 신경망(CNN)"
      ]
    },
    {
      "cell_type": "code",
      "execution_count": null,
      "metadata": {
        "id": "OOm97uA_rRCq",
        "colab": {
          "base_uri": "https://localhost:8080/"
        },
        "outputId": "17cf8264-8558-41e7-8881-4df970779988"
      },
      "outputs": [
        {
          "output_type": "stream",
          "name": "stdout",
          "text": [
            "\n",
            "Epoch 1: val_loss improved from inf to 0.41763, saving model to ./data/model/MNIST_CNN.hdf5\n",
            "\n",
            "Epoch 2: val_loss improved from 0.41763 to 0.35127, saving model to ./data/model/MNIST_CNN.hdf5\n",
            "\n",
            "Epoch 3: val_loss improved from 0.35127 to 0.30845, saving model to ./data/model/MNIST_CNN.hdf5\n",
            "\n",
            "Epoch 4: val_loss improved from 0.30845 to 0.27651, saving model to ./data/model/MNIST_CNN.hdf5\n",
            "\n",
            "Epoch 5: val_loss improved from 0.27651 to 0.26829, saving model to ./data/model/MNIST_CNN.hdf5\n",
            "\n",
            "Epoch 6: val_loss improved from 0.26829 to 0.25976, saving model to ./data/model/MNIST_CNN.hdf5\n",
            "\n",
            "Epoch 7: val_loss improved from 0.25976 to 0.24424, saving model to ./data/model/MNIST_CNN.hdf5\n",
            "\n",
            "Epoch 8: val_loss improved from 0.24424 to 0.24274, saving model to ./data/model/MNIST_CNN.hdf5\n",
            "\n",
            "Epoch 9: val_loss improved from 0.24274 to 0.23344, saving model to ./data/model/MNIST_CNN.hdf5\n",
            "\n",
            "Epoch 10: val_loss did not improve from 0.23344\n",
            "\n",
            "Epoch 11: val_loss did not improve from 0.23344\n",
            "\n",
            "Epoch 12: val_loss improved from 0.23344 to 0.22387, saving model to ./data/model/MNIST_CNN.hdf5\n",
            "\n",
            "Epoch 13: val_loss did not improve from 0.22387\n",
            "\n",
            "Epoch 14: val_loss did not improve from 0.22387\n",
            "\n",
            "Epoch 15: val_loss did not improve from 0.22387\n",
            "\n",
            "Epoch 16: val_loss improved from 0.22387 to 0.21497, saving model to ./data/model/MNIST_CNN.hdf5\n",
            "\n",
            "Epoch 17: val_loss did not improve from 0.21497\n",
            "\n",
            "Epoch 18: val_loss did not improve from 0.21497\n",
            "\n",
            "Epoch 19: val_loss did not improve from 0.21497\n",
            "\n",
            "Epoch 20: val_loss did not improve from 0.21497\n",
            "\n",
            "Epoch 21: val_loss did not improve from 0.21497\n",
            "\n",
            "Epoch 22: val_loss did not improve from 0.21497\n",
            "\n",
            "Epoch 23: val_loss did not improve from 0.21497\n",
            "\n",
            "Epoch 24: val_loss did not improve from 0.21497\n",
            "\n",
            "Epoch 25: val_loss did not improve from 0.21497\n",
            "\n",
            "Epoch 26: val_loss did not improve from 0.21497\n",
            "\n",
            "Epoch 27: val_loss did not improve from 0.21497\n",
            "\n",
            "Epoch 28: val_loss did not improve from 0.21497\n",
            "313/313 [==============================] - 9s 27ms/step - loss: 0.2792 - accuracy: 0.9256\n",
            "\n",
            " Test Accuracy: 0.9256\n"
          ]
        }
      ],
      "source": [
        "from tensorflow.keras.models import Sequential\n",
        "from tensorflow.keras.layers import Dense, Dropout, Flatten, Conv2D, MaxPooling2D\n",
        "from tensorflow.keras.callbacks import ModelCheckpoint,EarlyStopping\n",
        "from tensorflow.keras.datasets import fashion_mnist           #fashion_mnist\n",
        "from tensorflow.keras.utils import to_categorical\n",
        "\n",
        "import matplotlib.pyplot as plt\n",
        "import numpy as np\n",
        "\n",
        "import os\n",
        "\n",
        "# 데이터를 불러옵니다.\n",
        "(X_train, y_train), (X_test, y_test) = fashion_mnist.load_data()      #fashion_mnist\n",
        "X_train = X_train.reshape(X_train.shape[0], 28, 28, 1).astype('float32') / 255\n",
        "X_test = X_test.reshape(X_test.shape[0], 28, 28, 1).astype('float32') / 255\n",
        "y_train = to_categorical(y_train, 10)   #y_train, 10\n",
        "y_test = to_categorical(y_test, 10)\n",
        "\n",
        "# 컨볼루션 신경망의 설정\n",
        "model = Sequential()\n",
        "model.add(Conv2D(32, kernel_size=(3, 3), input_shape=(28, 28, 1), activation='relu'))   #32\n",
        "model.add(Conv2D(64, (3, 3), activation='relu'))   #64\n",
        "model.add(MaxPooling2D(pool_size=(2,2)))\n",
        "model.add(Dropout(0.3))\n",
        "model.add(Flatten())\n",
        "model.add(Dense(128,  activation='relu'))\n",
        "model.add(Dropout(0.5))\n",
        "model.add(Dense(64,  activation='relu')) #64\n",
        "model.add(Dropout(0.5))\n",
        "model.add(Dense(10, activation='softmax'))\n",
        "\n",
        "# 모델의 실행 옵션을 설정합니다.\n",
        "model.compile(loss='categorical_crossentropy',\n",
        "              optimizer='adam',\n",
        "              metrics=['accuracy'])\n",
        "\n",
        "# 모델 최적화를 위한 설정 구간입니다.\n",
        "MODEL_DIR = '/content/deeplearning/data/model'\n",
        "if not os.path.exists(MODEL_DIR):\n",
        "     !git clone https://github.com/taehojo/deeplearning.git\n",
        "\n",
        "modelpath=\"./data/model/MNIST_CNN.hdf5\"\n",
        "checkpointer = ModelCheckpoint(filepath=modelpath, monitor='val_loss', verbose=1, save_best_only=True)\n",
        "early_stopping_callback = EarlyStopping(monitor='val_loss', patience=12)\n",
        "\n",
        "# 모델을 실행합니다.\n",
        "history = model.fit(X_train, y_train, validation_split=0.25, epochs=100, batch_size=180, verbose=0, callbacks=[early_stopping_callback,checkpointer])\n",
        "\n",
        "# 테스트 정확도를 출력합니다.\n",
        "print(\"\\n Test Accuracy: %.4f\" % (model.evaluate(X_test, y_test)[1]))"
      ]
    },
    {
      "cell_type": "code",
      "execution_count": null,
      "metadata": {
        "colab": {
          "base_uri": "https://localhost:8080/",
          "height": 449
        },
        "id": "8qaYzMREU7Gc",
        "outputId": "e2269100-5016-44c3-e6d4-88b40358f167"
      },
      "outputs": [
        {
          "output_type": "display_data",
          "data": {
            "text/plain": [
              "<Figure size 640x480 with 1 Axes>"
            ],
            "image/png": "[encoded data removed]"
          },
          "metadata": {}
        }
      ],
      "source": [
        "# 검증셋과 학습셋의 오차를 저장합니다.\n",
        "y_vloss = history.history['val_loss']\n",
        "y_loss = history.history['loss']\n",
        "\n",
        "# 그래프로 표현해 봅니다.\n",
        "x_len = np.arange(len(y_loss))\n",
        "plt.plot(x_len, y_vloss, marker='.', c=\"red\", label='Testset_loss')\n",
        "plt.plot(x_len, y_loss, marker='.', c=\"blue\", label='Trainset_loss')\n",
        "\n",
        "# 그래프에 그리드를 주고 레이블을 표시하겠습니다.\n",
        "plt.legend(loc='upper right')\n",
        "plt.grid()\n",
        "plt.xlabel('epoch')\n",
        "plt.ylabel('loss')\n",
        "plt.show()"
      ]
    }
  ],
  "metadata": {
    "colab": {
      "collapsed_sections": [
        "HGHpxLu_sEwt",
        "4DwkQgufufX6"
      ],
      "provenance": [],
      "authorship_tag": "ABX9TyNKyhTeOdsuLga0itCEq+tT",
      "include_colab_link": true
    },
    "kernelspec": {
      "display_name": "Python 3",
      "name": "python3"
    },
    "language_info": {
      "name": "python"
    }
  },
  "nbformat": 4,
  "nbformat_minor": 0
}